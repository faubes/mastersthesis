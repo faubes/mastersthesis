{
 "cells": [
  {
   "cell_type": "raw",
   "metadata": {},
   "source": [
    "Using inequalities from thesis to solve for winning zombie starts!\n",
    "\n",
    "use find_delta(m,n) to obtain possible delta\n",
    "use find_offset(m,n,delta) to obtain possible offsets\n",
    "\n"
   ]
  },
  {
   "cell_type": "code",
   "execution_count": 8,
   "metadata": {},
   "outputs": [],
   "source": [
    "#Case I.A.\n",
    "def case_1_a(m,n,l,delta):\n",
    "    z1_clockwise = 4 <= 2*l and 2*l <= m + 1\n",
    "    z2_counter_clockwise = 2*delta <= n - m + 2*l or 2*delta <= n - 1\n",
    "    return z1_clockwise and z2_counter_clockwise\n",
    "\n",
    "def win_1_a(m,n,l,delta):\n",
    "    return 2*delta <= 2*m - 2*l + 2 and m - 2*l - 1 <= 2*delta\n",
    "            \n",
    "#Case II.A.\n",
    "def case_2_a(m,n,l,delta):\n",
    "    z1_clockwise = 4 <= 2*l and 2*l <= m + 1\n",
    "    z2_clockwise = n - m + 2*l <= 2*delta and n - 1 <= 2*delta\n",
    "    return z1_clockwise and z2_clockwise\n",
    "\n",
    "def win_2_a(m,n,l,delta):\n",
    "    return 2*delta >= 2*n - 2*m + 2*l and 2*delta <= 2*n + 2*l - m - 1\n",
    "\n",
    "#Case I.B.\n",
    "def case_1_b(m,n,l,delta):\n",
    "    z1_counter_clockwise = m + 1 <= 2*l and 2*l <= 2*m - 2\n",
    "    z2_clockwise = 2*delta <= n + 1 or 2*delta <= n + m - 2*l\n",
    "    return z1_counter_clockwise and z2_clockwise\n",
    "\n",
    "def win_1_b(m,n,l,delta):\n",
    "    return delta <= 2*l and 2*l - m + 1 <= 2*delta \n",
    "\n",
    "#Case II.B.\n",
    "def case_2_b(m,n,l,delta):\n",
    "    z1_counter_clockwise = m + 1 <= 2*l and 2*l <= 2*m - 2\n",
    "    z2_clockwise = n + 1 <= 2*delta\n",
    "    return z1_counter_clockwise and z2_clockwise\n",
    "\n",
    "def win_2_b(m,n,l,delta):\n",
    "    return n - delta <= l + 1 and 2*delta <= 2*n + m - 2*l + 1\n",
    "\n",
    "def find_delta(m,n):\n",
    "    for delta in range(n//2):\n",
    "        if try_delta(m,n,delta):\n",
    "             print(f\"Trap with delta: {delta}\")\n",
    "                \n",
    "def try_delta(m,n,delta):\n",
    "    for l in range(2,m):\n",
    "            if case_1_a(m,n,l,delta) and not win_1_a(m,n,l,delta):\n",
    "                return False\n",
    "            if case_1_b(m,n,l,delta) and not win_1_b(m,n,l,delta):\n",
    "                return False\n",
    "            if case_2_a(m,n,l,delta) and not win_2_a(m,n,l,delta):\n",
    "                return False\n",
    "            if case_2_b(m,n,l,delta) and not win_2_b(m,n,l,delta):\n",
    "                return False\n",
    "    return True\n",
    "\n",
    "def try_offset(m,n,delta,k):\n",
    "    return n - 2*delta - 5 <= 4*k and 4*k <= n - 2*delta + 3\n",
    "\n",
    "\n",
    "def find_offset(m,n,delta):\n",
    "    for k in range(n//2):\n",
    "        if try_offset(m,n,delta,k):\n",
    "            print(f\"Win with k: {k}\")"
   ]
  },
  {
   "cell_type": "code",
   "execution_count": 9,
   "metadata": {},
   "outputs": [
    {
     "name": "stdout",
     "output_type": "stream",
     "text": [
      "Trap with delta: 2\n",
      "Trap with delta: 3\n"
     ]
    }
   ],
   "source": [
    "find_delta(5,13)\n"
   ]
  },
  {
   "cell_type": "code",
   "execution_count": 10,
   "metadata": {},
   "outputs": [
    {
     "name": "stdout",
     "output_type": "stream",
     "text": [
      "Win with k: 1\n",
      "Win with k: 2\n",
      "Win with k: 3\n",
      "Win with k: 1\n",
      "Win with k: 2\n"
     ]
    }
   ],
   "source": [
    "find_offset(5,13,2)\n"
   ]
  },
  {
   "cell_type": "code",
   "execution_count": null,
   "metadata": {},
   "outputs": [],
   "source": [
    "find_offset(5,13,3)"
   ]
  },
  {
   "cell_type": "code",
   "execution_count": null,
   "metadata": {},
   "outputs": [],
   "source": []
  }
 ],
 "metadata": {
  "kernelspec": {
   "display_name": "Python 3",
   "language": "python",
   "name": "python3"
  },
  "language_info": {
   "codemirror_mode": {
    "name": "ipython",
    "version": 3
   },
   "file_extension": ".py",
   "mimetype": "text/x-python",
   "name": "python",
   "nbconvert_exporter": "python",
   "pygments_lexer": "ipython3",
   "version": "3.6.9"
  }
 },
 "nbformat": 4,
 "nbformat_minor": 2
}
